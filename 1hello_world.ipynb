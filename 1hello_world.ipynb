{
 "cells": [
  {
   "cell_type": "code",
   "execution_count": 25,
   "id": "8c552618",
   "metadata": {},
   "outputs": [],
   "source": [
    "from typing import Dict , TypedDict\n",
    "from langgraph.graph import StateGraph"
   ]
  },
  {
   "cell_type": "code",
   "execution_count": 26,
   "id": "29f20bec",
   "metadata": {},
   "outputs": [],
   "source": [
    "class AgenetState(TypedDict):  # our state schema\n",
    "    message: str\n",
    "    \n",
    "\n",
    "def greeting_node(state: AgenetState) -> AgenetState:\n",
    "    \"\"\"simple node that add a greeting message to the state\"\"\"\n",
    "    \n",
    "    state['message']=\"hey\"+state[\"message\"]+\",how is ypur day going ?\"\n",
    "    return state"
   ]
  },
  {
   "cell_type": "code",
   "execution_count": 27,
   "id": "f0f2051b",
   "metadata": {},
   "outputs": [
    {
     "data": {
      "text/plain": [
       "<langgraph.graph.state.StateGraph at 0x2756b1e6c50>"
      ]
     },
     "execution_count": 27,
     "metadata": {},
     "output_type": "execute_result"
    }
   ],
   "source": [
    "graph = StateGraph(AgenetState)\n",
    "\n",
    "graph.add_node(\"gretterr2\", greeting_node)"
   ]
  },
  {
   "cell_type": "code",
   "execution_count": 28,
   "id": "14b2c38e",
   "metadata": {},
   "outputs": [],
   "source": [
    "graph.set_entry_point(\"gretterr2\")\n",
    "graph.set_finish_point(\"gretterr2\")\n",
    "app = graph.compile()"
   ]
  },
  {
   "cell_type": "code",
   "execution_count": 30,
   "id": "46869267",
   "metadata": {},
   "outputs": [
    {
     "data": {
      "image/png": "[encoded data removed]",
      "text/plain": [
       "<IPython.core.display.Image object>"
      ]
     },
     "metadata": {},
     "output_type": "display_data"
    }
   ],
   "source": [
    "from IPython.display import display, Image\n",
    "display(Image(app.get_graph().draw_mermaid_png()))"
   ]
  },
  {
   "cell_type": "code",
   "execution_count": 32,
   "id": "c38ab8c3",
   "metadata": {},
   "outputs": [],
   "source": [
    "result=app.invoke(AgenetState(message=\"hello\"))"
   ]
  },
  {
   "cell_type": "code",
   "execution_count": 33,
   "id": "62472198",
   "metadata": {},
   "outputs": [
    {
     "data": {
      "text/plain": [
       "'heyhello,how is ypur day going ?'"
      ]
     },
     "execution_count": 33,
     "metadata": {},
     "output_type": "execute_result"
    }
   ],
   "source": [
    "result[\"message\"]"
   ]
  },
  {
   "cell_type": "code",
   "execution_count": null,
   "id": "e4e1253f",
   "metadata": {},
   "outputs": [],
   "source": []
  }
 ],
 "metadata": {
  "kernelspec": {
   "display_name": "langchain-env1",
   "language": "python",
   "name": "python3"
  },
  "language_info": {
   "codemirror_mode": {
    "name": "ipython",
    "version": 3
   },
   "file_extension": ".py",
   "mimetype": "text/x-python",
   "name": "python",
   "nbconvert_exporter": "python",
   "pygments_lexer": "ipython3",
   "version": "3.10.16"
  }
 },
 "nbformat": 4,
 "nbformat_minor": 5
}
