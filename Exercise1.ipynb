{
 "cells": [
  {
   "cell_type": "code",
   "execution_count": 1,
   "id": "f039c3a1",
   "metadata": {},
   "outputs": [],
   "source": [
    "from typing import Dict,TypedDict\n",
    "from langgraph.graph import StateGraph"
   ]
  },
  {
   "cell_type": "code",
   "execution_count": 2,
   "id": "a4f05d02",
   "metadata": {},
   "outputs": [],
   "source": [
    "class AgentStateOne(TypedDict):\n",
    "    \n",
    "    name : str \n",
    "    messsage:str"
   ]
  },
  {
   "cell_type": "code",
   "execution_count": 3,
   "id": "35a4b619",
   "metadata": {},
   "outputs": [],
   "source": [
    "def getting_node(state:AgentStateOne)->AgentStateOne:\n",
    "    \n",
    "    \"\"\"node that can concate a message and name \"\"\"\n",
    "    \n",
    "    state['messsage'] = f\"Hello {state['name']} , you are doing so good job.\"\n",
    "    return state"
   ]
  },
  {
   "cell_type": "code",
   "execution_count": 4,
   "id": "5f224eb0",
   "metadata": {},
   "outputs": [],
   "source": [
    "graph=StateGraph(AgentStateOne)\n",
    "graph.add_node(\"getting_node\", getting_node)\n",
    "graph.set_entry_point(\"getting_node\")\n",
    "graph.set_finish_point(\"getting_node\")\n",
    "app=graph.compile()"
   ]
  },
  {
   "cell_type": "code",
   "execution_count": 6,
   "id": "621ec9b1",
   "metadata": {},
   "outputs": [
    {
     "data": {
      "image/png": "[encoded data removed]",
      "text/plain": [
       "<IPython.core.display.Image object>"
      ]
     },
     "metadata": {},
     "output_type": "display_data"
    }
   ],
   "source": [
    "from IPython.display import display, Image\n",
    "display(Image(app.get_graph().draw_mermaid_png()))"
   ]
  },
  {
   "cell_type": "code",
   "execution_count": 7,
   "id": "2987a78f",
   "metadata": {},
   "outputs": [],
   "source": [
    "input={\"name\":\"vandna\"}"
   ]
  },
  {
   "cell_type": "code",
   "execution_count": 8,
   "id": "b1ff1ac5",
   "metadata": {},
   "outputs": [
    {
     "name": "stdout",
     "output_type": "stream",
     "text": [
      "{'name': 'vandna', 'messsage': 'Hello vandna , you are doing so good job.'}\n"
     ]
    }
   ],
   "source": [
    "result=app.invoke(input)\n",
    "print(result)"
   ]
  },
  {
   "cell_type": "code",
   "execution_count": 9,
   "id": "06aa65c8",
   "metadata": {},
   "outputs": [
    {
     "data": {
      "text/plain": [
       "'Hello vandna , you are doing so good job.'"
      ]
     },
     "execution_count": 9,
     "metadata": {},
     "output_type": "execute_result"
    }
   ],
   "source": [
    "result[\"messsage\"]"
   ]
  },
  {
   "cell_type": "code",
   "execution_count": null,
   "id": "392cbb01",
   "metadata": {},
   "outputs": [],
   "source": []
  }
 ],
 "metadata": {
  "kernelspec": {
   "display_name": "langchain-env1",
   "language": "python",
   "name": "python3"
  },
  "language_info": {
   "codemirror_mode": {
    "name": "ipython",
    "version": 3
   },
   "file_extension": ".py",
   "mimetype": "text/x-python",
   "name": "python",
   "nbconvert_exporter": "python",
   "pygments_lexer": "ipython3",
   "version": "3.10.16"
  }
 },
 "nbformat": 4,
 "nbformat_minor": 5
}
