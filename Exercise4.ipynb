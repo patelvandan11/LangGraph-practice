{
 "cells": [
  {
   "cell_type": "code",
   "execution_count": 76,
   "id": "862b9a18",
   "metadata": {},
   "outputs": [],
   "source": [
    "from typing import TypedDict , List ,Dict\n",
    "from langgraph.graph import  StateGraph, START,END"
   ]
  },
  {
   "cell_type": "code",
   "execution_count": 77,
   "id": "79d6a83c",
   "metadata": {},
   "outputs": [],
   "source": [
    "class AgentState(TypedDict):\n",
    "    number1: int \n",
    "    operation1: str\n",
    "    number2: int\n",
    "    finalNumber: int\n",
    "    number3: int\n",
    "    operation2: str\n",
    "    number4: int\n",
    "    finalNumber2: int\n",
    "\n"
   ]
  },
  {
   "cell_type": "code",
   "execution_count": 83,
   "id": "0e02728c",
   "metadata": {},
   "outputs": [
    {
     "ename": "NameError",
     "evalue": "name 'decide_next_node' is not defined",
     "output_type": "error",
     "traceback": [
      "\u001b[1;31m---------------------------------------------------------------------------\u001b[0m",
      "\u001b[1;31mNameError\u001b[0m                                 Traceback (most recent call last)",
      "Cell \u001b[1;32mIn[83], line 16\u001b[0m\n\u001b[0;32m      9\u001b[0m graph\u001b[38;5;241m.\u001b[39madd_node(\u001b[38;5;124m\"\u001b[39m\u001b[38;5;124mrouter2\u001b[39m\u001b[38;5;124m\"\u001b[39m, \u001b[38;5;28;01mlambda\u001b[39;00m state:state) \n\u001b[0;32m     12\u001b[0m graph\u001b[38;5;241m.\u001b[39madd_edge(START, \u001b[38;5;124m\"\u001b[39m\u001b[38;5;124mrouter\u001b[39m\u001b[38;5;124m\"\u001b[39m)\n\u001b[0;32m     14\u001b[0m graph\u001b[38;5;241m.\u001b[39madd_conditional_edges(\n\u001b[0;32m     15\u001b[0m     \u001b[38;5;124m\"\u001b[39m\u001b[38;5;124mrouter\u001b[39m\u001b[38;5;124m\"\u001b[39m, \n\u001b[1;32m---> 16\u001b[0m     \u001b[43mdecide_next_node\u001b[49m,\n\u001b[0;32m     17\u001b[0m     {\n\u001b[0;32m     18\u001b[0m         \u001b[38;5;66;03m# Edge: Node format\u001b[39;00m\n\u001b[0;32m     19\u001b[0m         \u001b[38;5;124m\"\u001b[39m\u001b[38;5;124maddition_operation\u001b[39m\u001b[38;5;124m\"\u001b[39m: \u001b[38;5;124m\"\u001b[39m\u001b[38;5;124madd_node\u001b[39m\u001b[38;5;124m\"\u001b[39m,\n\u001b[0;32m     20\u001b[0m         \u001b[38;5;124m\"\u001b[39m\u001b[38;5;124msubtraction_operation\u001b[39m\u001b[38;5;124m\"\u001b[39m: \u001b[38;5;124m\"\u001b[39m\u001b[38;5;124msubtract_node\u001b[39m\u001b[38;5;124m\"\u001b[39m\n\u001b[0;32m     21\u001b[0m     }\n\u001b[0;32m     22\u001b[0m )\n\u001b[0;32m     25\u001b[0m graph\u001b[38;5;241m.\u001b[39madd_edge(\u001b[38;5;124m\"\u001b[39m\u001b[38;5;124madd_node\u001b[39m\u001b[38;5;124m\"\u001b[39m, \u001b[38;5;124m\"\u001b[39m\u001b[38;5;124mrouter2\u001b[39m\u001b[38;5;124m\"\u001b[39m)\n\u001b[0;32m     26\u001b[0m graph\u001b[38;5;241m.\u001b[39madd_edge(\u001b[38;5;124m\"\u001b[39m\u001b[38;5;124msubtract_node\u001b[39m\u001b[38;5;124m\"\u001b[39m, \u001b[38;5;124m\"\u001b[39m\u001b[38;5;124mrouter2\u001b[39m\u001b[38;5;124m\"\u001b[39m)\n",
      "\u001b[1;31mNameError\u001b[0m: name 'decide_next_node' is not defined"
     ]
    }
   ],
   "source": [
    "graph = StateGraph(AgentState)\n",
    "\n",
    "graph.add_node(\"add_node\", adder)\n",
    "graph.add_node(\"subtract_node\", subtractor)\n",
    "graph.add_node(\"router\", lambda state:state) \n",
    "\n",
    "graph.add_node(\"add_node2\", adder2)\n",
    "graph.add_node(\"subtract_node2\", subtractor2)\n",
    "graph.add_node(\"router2\", lambda state:state) \n",
    "\n",
    "\n",
    "graph.add_edge(START, \"router\")\n",
    "\n",
    "graph.add_conditional_edges(\n",
    "    \"router\", \n",
    "    decide_next_node,\n",
    "    {\n",
    "        # Edge: Node format\n",
    "        \"addition_operation\": \"add_node\",\n",
    "        \"subtraction_operation\": \"subtract_node\"\n",
    "    }\n",
    ")\n",
    "\n",
    "\n",
    "graph.add_edge(\"add_node\", \"router2\")\n",
    "graph.add_edge(\"subtract_node\", \"router2\")\n",
    "\n",
    "graph.add_conditional_edges(\n",
    "    \"router2\", \n",
    "    decide_next_node1,\n",
    "    {\n",
    "        # Edge: Node format\n",
    "        \"addition_operation2\": \"add_node2\",\n",
    "        \"subtraction_operation2\": \"subtract_node2\"\n",
    "    }\n",
    ")\n",
    "\n",
    "\n",
    "graph.add_edge(\"add_node2\", END)\n",
    "graph.add_edge(\"subtract_node2\", END)\n",
    "\n",
    "app = graph.compile()\n"
   ]
  },
  {
   "cell_type": "code",
   "execution_count": 84,
   "id": "d869d577",
   "metadata": {},
   "outputs": [
    {
     "ename": "NameError",
     "evalue": "name 'Any' is not defined",
     "output_type": "error",
     "traceback": [
      "\u001b[1;31m---------------------------------------------------------------------------\u001b[0m",
      "\u001b[1;31mNameError\u001b[0m                                 Traceback (most recent call last)",
      "Cell \u001b[1;32mIn[84], line 1\u001b[0m\n\u001b[1;32m----> 1\u001b[0m AgentState \u001b[38;5;241m=\u001b[39m Dict[\u001b[38;5;28mstr\u001b[39m, \u001b[43mAny\u001b[49m] \n\u001b[0;32m      2\u001b[0m graph\u001b[38;5;241m=\u001b[39mStateGraph(AgentState)\n\u001b[0;32m      3\u001b[0m graph\u001b[38;5;241m.\u001b[39madd_node(\u001b[38;5;124m\"\u001b[39m\u001b[38;5;124madd_node\u001b[39m\u001b[38;5;124m\"\u001b[39m, adder1)\n",
      "\u001b[1;31mNameError\u001b[0m: name 'Any' is not defined"
     ]
    }
   ],
   "source": [
    "AgentState = Dict[str, Any] \n",
    "graph=StateGraph(AgentState)\n",
    "graph.add_node(\"add_node\", adder1)\n",
    "graph.add_node(\"subtract_node\", subtractor1)\n",
    "graph.add_node(\"router1\", lambda state:state) \n",
    "\n",
    "graph.add_node(\"add_node2\", adder2)\n",
    "graph.add_node(\"subtract_node2\", subtractor2)\n",
    "graph.add_node(\"router2\", lambda state:state) \n",
    "\n",
    "graph.add_edge(START, \"router1\")\n",
    "\n",
    "graph.add_conditional_edges(\n",
    "    \"router1\", \n",
    "    selector1,\n",
    "    {\n",
    "        # Edge: Node format\n",
    "        \"addition_operation\": \"add_node\",\n",
    "        \"subtraction_operation\": \"subtract_node\"\n",
    "    }\n",
    ")\n",
    "\n",
    "\n",
    "graph.add_edge(\"add_node\", \"router2\")\n",
    "graph.add_edge(\"subtract_node\", \"router2\")\n",
    "\n",
    "graph.add_conditional_edges(\"router2\", selector2,{\"addition_operation2\": \"add_node2\",\"subtraction_operation2\": \"subtract_node2\"})\n",
    "\n",
    "\n",
    "graph.add_edge(\"add_node2\", END)\n",
    "graph.add_edge(\"subtract_node2\", END)\n",
    "\n",
    "app = graph.compile()"
   ]
  },
  {
   "cell_type": "code",
   "execution_count": 85,
   "id": "dc87e2ca",
   "metadata": {},
   "outputs": [],
   "source": [
    "app=graph.compile()"
   ]
  },
  {
   "cell_type": "code",
   "execution_count": 86,
   "id": "a40f93f2",
   "metadata": {},
   "outputs": [
    {
     "data": {
      "image/png": "[encoded data removed]",
      "text/plain": [
       "<IPython.core.display.Image object>"
      ]
     },
     "metadata": {},
     "output_type": "display_data"
    }
   ],
   "source": [
    "from IPython.display import Image, display\n",
    "display(Image(app.get_graph().draw_mermaid_png()))"
   ]
  },
  {
   "cell_type": "code",
   "execution_count": 87,
   "id": "d501e668",
   "metadata": {},
   "outputs": [],
   "source": [
    "initial_state = AgentState(number1 = 10, operation1=\"-\", number2 = 5, number3 = 7, number4=2, operation2=\"+\", finalNumber= 0, finalNumber2 = 0)"
   ]
  },
  {
   "cell_type": "code",
   "execution_count": 88,
   "id": "dbe07075",
   "metadata": {},
   "outputs": [
    {
     "name": "stdout",
     "output_type": "stream",
     "text": [
      "{'number1': 10, 'operation1': '-', 'number2': 5, 'finalNumber': 0, 'number3': 7, 'operation2': '+', 'number4': 2, 'finalNumber2': 0}\n"
     ]
    }
   ],
   "source": [
    "print(app.invoke(initial_state))\n"
   ]
  },
  {
   "cell_type": "code",
   "execution_count": null,
   "id": "d388eeaf",
   "metadata": {},
   "outputs": [],
   "source": []
  },
  {
   "cell_type": "code",
   "execution_count": null,
   "id": "0f06a74d",
   "metadata": {},
   "outputs": [],
   "source": []
  },
  {
   "cell_type": "code",
   "execution_count": null,
   "id": "9312f781",
   "metadata": {},
   "outputs": [],
   "source": []
  },
  {
   "cell_type": "code",
   "execution_count": null,
   "id": "cb230893",
   "metadata": {},
   "outputs": [],
   "source": []
  },
  {
   "cell_type": "code",
   "execution_count": null,
   "id": "3c28cfc4",
   "metadata": {},
   "outputs": [],
   "source": []
  }
 ],
 "metadata": {
  "kernelspec": {
   "display_name": "langchain-env1",
   "language": "python",
   "name": "python3"
  },
  "language_info": {
   "codemirror_mode": {
    "name": "ipython",
    "version": 3
   },
   "file_extension": ".py",
   "mimetype": "text/x-python",
   "name": "python",
   "nbconvert_exporter": "python",
   "pygments_lexer": "ipython3",
   "version": "3.10.16"
  }
 },
 "nbformat": 4,
 "nbformat_minor": 5
}
