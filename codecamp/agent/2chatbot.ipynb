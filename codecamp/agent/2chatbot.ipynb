{
 "cells": [
  {
   "cell_type": "code",
   "execution_count": 5,
   "id": "b6db20f6",
   "metadata": {},
   "outputs": [],
   "source": [
    "import os \n",
    "from dotenv import load_dotenv\n",
    "load_dotenv()\n",
    "\n",
    "from langgraph.graph import StateGraph,START,END\n",
    "from langchain_nvidia_ai_endpoints import ChatNVIDIA, NVIDIAEmbeddings\n",
    "from langchain_core.messages import AIMessage, HumanMessage, SystemMessage\n",
    "from typing import Any, Dict, List,TypedDict ,Union"
   ]
  },
  {
   "cell_type": "code",
   "execution_count": 6,
   "id": "4c4fd271",
   "metadata": {},
   "outputs": [],
   "source": [
    "llm= ChatNVIDIA(\n",
    "    model=\"meta/llama3-70b-instruct\",\n",
    "    api_key=os.getenv(\"NVIDIA_API_KEY\"),\n",
    "    max_tokens=1000,\n",
    "    temperature=0.1,\n",
    ")"
   ]
  },
  {
   "cell_type": "code",
   "execution_count": 7,
   "id": "8480eefd",
   "metadata": {},
   "outputs": [],
   "source": [
    "embedder = NVIDIAEmbeddings(\n",
    "    model=\"nvidia/nv-embedqa-e5-v5\",\n",
    "    model_type=\"passage\",\n",
    "    api_key=os.getenv(\"nvidia_api_key\")\n",
    ")"
   ]
  },
  {
   "cell_type": "code",
   "execution_count": 14,
   "id": "4f3b587b",
   "metadata": {},
   "outputs": [],
   "source": [
    "class AgentState(TypedDict):\n",
    "    messages: List[Union[HumanMessage, AIMessage, SystemMessage]]\n",
    "    \n",
    "def process(state:AgentState)->AgentState:\n",
    "    \"\"\" this node will solve the request input \"\"\"\n",
    "    response=llm.invoke(state[\"messages\"])\n",
    "    state[\"messages\"].append(AIMessage(content=response.content))\n",
    "    print(f\"\\n AI: {response.content}\\n\")\n",
    "    print(f\"CURRENT STATE: {state['messages']}\\n\")\n",
    "    return state\n",
    "\n"
   ]
  },
  {
   "cell_type": "code",
   "execution_count": 15,
   "id": "4ce36b63",
   "metadata": {},
   "outputs": [],
   "source": [
    "graph=StateGraph(AgentState)\n",
    "graph.add_node(\"process\",process)\n",
    "graph.add_edge(START, \"process\")\n",
    "graph.add_edge(\"process\", END)\n",
    "agent=graph.compile()"
   ]
  },
  {
   "cell_type": "code",
   "execution_count": 16,
   "id": "f9113939",
   "metadata": {},
   "outputs": [
    {
     "data": {
      "image/png": "[encoded data removed]",
      "text/plain": [
       "<langgraph.graph.state.CompiledStateGraph object at 0x000002057F8A4A00>"
      ]
     },
     "execution_count": 16,
     "metadata": {},
     "output_type": "execute_result"
    }
   ],
   "source": [
    "agent"
   ]
  },
  {
   "cell_type": "code",
   "execution_count": null,
   "id": "b1775bcc",
   "metadata": {},
   "outputs": [
    {
     "name": "stdout",
     "output_type": "stream",
     "text": [
      "\n",
      " AI: Hello! It's nice to meet you. Is there something I can help you with, or would you like to chat?\n",
      "\n",
      "CURRENT STATE: [HumanMessage(content='hello', additional_kwargs={}, response_metadata={}), AIMessage(content=\"Hello! It's nice to meet you. Is there something I can help you with, or would you like to chat?\", additional_kwargs={}, response_metadata={})]\n",
      "\n",
      "[HumanMessage(content='hello', additional_kwargs={}, response_metadata={}), AIMessage(content=\"Hello! It's nice to meet you. Is there something I can help you with, or would you like to chat?\", additional_kwargs={}, response_metadata={})]\n",
      "\n",
      " AI: I'm doing well, thank you for asking! I'm a large language model, so I don't have feelings or emotions like humans do, but I'm functioning properly and ready to assist with any questions or tasks you may have. How about you? How's your day going so far?\n",
      "\n",
      "CURRENT STATE: [HumanMessage(content='hello', additional_kwargs={}, response_metadata={}), AIMessage(content=\"Hello! It's nice to meet you. Is there something I can help you with, or would you like to chat?\", additional_kwargs={}, response_metadata={}), HumanMessage(content='how are you ?', additional_kwargs={}, response_metadata={}), AIMessage(content=\"I'm doing well, thank you for asking! I'm a large language model, so I don't have feelings or emotions like humans do, but I'm functioning properly and ready to assist with any questions or tasks you may have. How about you? How's your day going so far?\", additional_kwargs={}, response_metadata={})]\n",
      "\n",
      "[HumanMessage(content='hello', additional_kwargs={}, response_metadata={}), AIMessage(content=\"Hello! It's nice to meet you. Is there something I can help you with, or would you like to chat?\", additional_kwargs={}, response_metadata={}), HumanMessage(content='how are you ?', additional_kwargs={}, response_metadata={}), AIMessage(content=\"I'm doing well, thank you for asking! I'm a large language model, so I don't have feelings or emotions like humans do, but I'm functioning properly and ready to assist with any questions or tasks you may have. How about you? How's your day going so far?\", additional_kwargs={}, response_metadata={})]\n"
     ]
    }
   ],
   "source": [
    "conversation_history=[]\n",
    "user_input=input(\"enter the input :\")\n",
    "while user_input!=\"exit\":\n",
    "    conversation_history.append(HumanMessage(content=user_input))\n",
    "    \n",
    "    result=agent.invoke({\"messages\":conversation_history})\n",
    "    \n",
    "    print(result[\"messages\"])\n",
    "    \n",
    "    conversation_history=result[\"messages\"]\n",
    "    user_input=input(\"enter the input :\")\n",
    "    \n",
    "    \n",
    "\n",
    "with open(\"conversation_history.txt\", \"w\") as f:\n",
    "    f.write(\"Conversation log:\\n\")\n",
    "    for message in conversation_history:\n",
    "        if isinstance(message, HumanMessage):\n",
    "            f.write(f\"User: {message.content}\\n\")\n",
    "        elif isinstance(message, AIMessage):\n",
    "            f.write(f\"AI: {message.content}\\n\")\n",
    "    f.write(\"\\nEnd of conversation.\\n\")\n",
    "print(\"Conversation history saved to conversation_history.txt\")\n",
    "        "
   ]
  },
  {
   "cell_type": "code",
   "execution_count": null,
   "id": "db48a0f2",
   "metadata": {},
   "outputs": [
    {
     "name": "stdout",
     "output_type": "stream",
     "text": [
      "Conversation history saved to conversation_history.txt\n"
     ]
    }
   ],
   "source": []
  },
  {
   "cell_type": "code",
   "execution_count": null,
   "id": "a6fe6abd",
   "metadata": {},
   "outputs": [],
   "source": []
  }
 ],
 "metadata": {
  "kernelspec": {
   "display_name": "langchain-env1",
   "language": "python",
   "name": "python3"
  },
  "language_info": {
   "codemirror_mode": {
    "name": "ipython",
    "version": 3
   },
   "file_extension": ".py",
   "mimetype": "text/x-python",
   "name": "python",
   "nbconvert_exporter": "python",
   "pygments_lexer": "ipython3",
   "version": "3.10.16"
  }
 },
 "nbformat": 4,
 "nbformat_minor": 5
}
